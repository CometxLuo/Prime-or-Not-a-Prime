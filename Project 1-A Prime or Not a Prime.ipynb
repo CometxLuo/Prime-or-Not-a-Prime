{
 "cells": [
  {
   "cell_type": "markdown",
   "id": "d8857966",
   "metadata": {},
   "source": [
    "# Project 1-A Prime or Not a Prime"
   ]
  },
  {
   "cell_type": "markdown",
   "id": "1370250d",
   "metadata": {},
   "source": [
    "## Introduction\n",
    "\n",
    "**Fermat's little theorem** is a basic fact that relates prime numbers and congruences: If $p$ is a prime number then $$a^p\\equiv a (\\mod p)$$ for any integer $0\\leq a<p$.\n",
    "\n",
    "For example, for $p=3$ we have\n",
    "$$1^3=1\\equiv 1 (\\mod 3)$$\n",
    "$$2^3=8\\equiv 2 (\\mod 3)$$\n",
    "$$3^3=27\\equiv 3 (\\mod 3)$$\n",
    "$$4^3=64\\equiv 4 (\\mod 3)$$\n",
    "which shows that the formula $a^3\\equiv a (\\mod 3)$ holds for $a=1,2,3,4$.\n",
    "\n",
    "The formula from the above theorem does not hold in general if $p$ is not prime. For example, for $p=4$ and $a=2$ we have $2^4=16$ which is not congruent to 2 modulo 4.\n",
    "\n",
    "However, there are some numbers $p\\geq 2$ such that:\n",
    "* $p$ is not a prime\n",
    "* the formula $a^p\\equiv a(\\mod p)$ holds for all $0\\leq a<p$\n",
    "\n",
    "We will call such numbers *false primes*.\n",
    "\n",
    "In this project, our goal is to research the properties of false primes. The way to explore those is\n",
    "1. to find out the first 20 false primes;\n",
    "2. to decompose the first 20 false primes we found;\n",
    "3. to conjecture the properties of false primes according to the decomposition."
   ]
  },
  {
   "cell_type": "markdown",
   "id": "af8d9865",
   "metadata": {},
   "source": [
    "## Part 1-First 20 False Primes\n",
    "\n",
    "Write a Python script to find the first 20 false primes.\n",
    "\n",
    "Step:\n",
    "1. Write a Python function `is_prime` that checks whether the input number $n$ is prime or not\n",
    "2. Write a Python function `is_prime_like` that checks whether Fermat's little theorem applies to the input number $n$ or not\n",
    "3. Write a Python function `is_false_prime` that checks whether the input numbers $n$ is false prime or not\n",
    "4. Create a list of first 20 false primes\n"
   ]
  },
  {
   "cell_type": "markdown",
   "id": "ad3cc88c",
   "metadata": {},
   "source": [
    "We need to use the square root function for the first step. So, import the math module and store it as the variable `m` before step 1."
   ]
  },
  {
   "cell_type": "code",
   "execution_count": 1,
   "id": "4acb4de9",
   "metadata": {},
   "outputs": [],
   "source": [
    "import math as m # import and simplify the math module name"
   ]
  },
  {
   "cell_type": "markdown",
   "id": "cbb58e04",
   "metadata": {},
   "source": [
    "### Step 1-Create a `is_prime` function:\n",
    "\n",
    "A number is called prime when it is an integer greater than $1$, and the only positive integer factors of it are $1$ and the number itself. We can use the modulus operation `%` to check divisibility. If the reminder of `m` divided by `n` equals to $0$, then `n` will be a factor of `m`.\n",
    "\n",
    "Given a number $n$, let every number from $2$ to $n-1$ divides $n$ then check if the reminder equals to $0$. If one number does, that means the one is a factor of $n$. Then we should `return false` since it is not prime. After running all of the numbers in the range from $2$ to $n-1$, no 'False' returns. It means that the given number $n$ is a prime, and then we should `return True`.\n",
    "\n",
    "Optimization:\n",
    "It takes a long time to run all numbers in the given range if the given number $n$ is huge. So we can replace $n$ with a least number that is necessary to check.\n",
    "\n",
    "$$n = a\\cdot b$$\n",
    "\n",
    "Either $a\\leq\\sqrt{n}$ or $b\\leq\\sqrt{n}$\n",
    "\n",
    "Hence, we substitube $\\sqrt{n}+1$ for $n$ for the range upper bound. (Using '$\\sqrt{n}+1$' instead of '$\\sqrt{n}$' is because the last number is $\\sqrt{n}-1$ if the range is from $2$ to $\\sqrt{n}$.)"
   ]
  },
  {
   "cell_type": "code",
   "execution_count": 2,
   "id": "1b619c79",
   "metadata": {},
   "outputs": [],
   "source": [
    "def is_prime(n):       \n",
    "    if n < 2:                                # '0' and '1' cannot be used to divide any number to check if the given number is prime.\n",
    "        return False                         # '0' and '1' is not prime, so return False.\n",
    "    for d in range(2, (int(m.sqrt(n)) + 1)): # According to the above optimization, we need a for loop to let every number from '2' to 'sqrt(2)-1' divide the given number 'n'.\n",
    "        if n % d == 0:                       # To check if the reminder of 'n' divieded by 'd' equals to '0'.\n",
    "            return False                     # If the reminder equals to '0', that means 'd' is a factor of 'n'. Then 'n' is not prime, so return False.\n",
    "    return True                              # Exist the loop, after checking all possible numbers, there's no False return. That means the given number 'n' is a prime. Return True."
   ]
  },
  {
   "cell_type": "markdown",
   "id": "a52beb0a",
   "metadata": {},
   "source": [
    "To check if the `is_prime` function works for integer $2$."
   ]
  },
  {
   "cell_type": "code",
   "execution_count": 3,
   "id": "7d8aa637",
   "metadata": {},
   "outputs": [
    {
     "data": {
      "text/plain": [
       "True"
      ]
     },
     "execution_count": 3,
     "metadata": {},
     "output_type": "execute_result"
    }
   ],
   "source": [
    "is_prime(2)  # Apply the 'is_prime' function to integer '2'."
   ]
  },
  {
   "cell_type": "markdown",
   "id": "9ee25291",
   "metadata": {},
   "source": [
    "To check if the `is_prime` function works for integer $3$."
   ]
  },
  {
   "cell_type": "code",
   "execution_count": 4,
   "id": "1bf112eb",
   "metadata": {},
   "outputs": [
    {
     "data": {
      "text/plain": [
       "True"
      ]
     },
     "execution_count": 4,
     "metadata": {},
     "output_type": "execute_result"
    }
   ],
   "source": [
    "is_prime(3)  # Apply the 'is_prime' function to integer '3'."
   ]
  },
  {
   "cell_type": "markdown",
   "id": "80ba8f89",
   "metadata": {},
   "source": [
    "To check if the `is_prime` function works for integer $4$, an integer that is not prime we can easily know."
   ]
  },
  {
   "cell_type": "code",
   "execution_count": 5,
   "id": "0b8c47a6",
   "metadata": {},
   "outputs": [
    {
     "data": {
      "text/plain": [
       "False"
      ]
     },
     "execution_count": 5,
     "metadata": {},
     "output_type": "execute_result"
    }
   ],
   "source": [
    "is_prime(4)  # Apply the 'is_prime' function to integer '4'."
   ]
  },
  {
   "cell_type": "markdown",
   "id": "c67a4998",
   "metadata": {},
   "source": [
    "To check if the `is_prime` function works for integer $11$, an integer that is prime we can easily know."
   ]
  },
  {
   "cell_type": "code",
   "execution_count": 6,
   "id": "c4b8ef66",
   "metadata": {},
   "outputs": [
    {
     "data": {
      "text/plain": [
       "True"
      ]
     },
     "execution_count": 6,
     "metadata": {},
     "output_type": "execute_result"
    }
   ],
   "source": [
    "is_prime(11)  # Apply the 'is_prime' function to integer '11'."
   ]
  },
  {
   "cell_type": "markdown",
   "id": "6116ad7a",
   "metadata": {},
   "source": [
    "### Step 2-Create a `is_prime_like` function: \n",
    "\n",
    "We call a number $p$ *prime-like* if $p\\geq 2$ and the formula $a^p \\equiv a \\pmod{p}$ holds for all $0\\leq a <p$. Using this formula, we should check if the reminders from division of both $a^p$ and $a$ by $p$ are same, for all $a$ in range($2$, $n$). If not same, `return False`. Otherwise, `return True`."
   ]
  },
  {
   "cell_type": "code",
   "execution_count": 7,
   "id": "afe8ad0e",
   "metadata": {},
   "outputs": [],
   "source": [
    "def is_prime_like(n):\n",
    "    for a in range(2,n):            # Set a loop for checking every number from '2' to 'n-1'\n",
    "        if pow(a, n, n) != (a % n): # Check if the reminders from division of both 'a**p' and 'a' by 'p' are not the same\n",
    "            return False\n",
    "    return True"
   ]
  },
  {
   "cell_type": "markdown",
   "id": "dc6eb581",
   "metadata": {},
   "source": [
    "To check if the `is_prime_like` function works for integer $4$, which is a not prime-like example known from project introduction."
   ]
  },
  {
   "cell_type": "code",
   "execution_count": 8,
   "id": "70629868",
   "metadata": {},
   "outputs": [
    {
     "data": {
      "text/plain": [
       "False"
      ]
     },
     "execution_count": 8,
     "metadata": {},
     "output_type": "execute_result"
    }
   ],
   "source": [
    "is_prime_like(4)  # Apply the 'is_prime_like' function to integer '4'."
   ]
  },
  {
   "cell_type": "markdown",
   "id": "296f286b",
   "metadata": {},
   "source": [
    "To check if the `is_prime_like` function works for integer $561$, which is the smallest false prime number known from project introduction."
   ]
  },
  {
   "cell_type": "code",
   "execution_count": 9,
   "id": "95a41528",
   "metadata": {},
   "outputs": [
    {
     "data": {
      "text/plain": [
       "True"
      ]
     },
     "execution_count": 9,
     "metadata": {},
     "output_type": "execute_result"
    }
   ],
   "source": [
    "is_prime_like(561)  # Apply the 'is_prime_like' function to integer '561'."
   ]
  },
  {
   "cell_type": "markdown",
   "id": "c47adcb2",
   "metadata": {},
   "source": [
    "### Step 3-Create a `is_false_prime` function\n",
    "\n",
    "Combine the features of `is_prime_` function and `is_prime_like` function. It would turn out a function that can determine if the given number is false prime. When we input a number $n$, the `is_prime` function returns false and the `is_prime_like` function returns true, which means the $n$ is a false prime. Otherwise, it is not.\n",
    "\n",
    "Note: _False primes_ are the numbers $p\\geq 2$ such that:\n",
    "1. _p_ is not a prime\n",
    "2. the formula $a^p \\equiv a \\pmod{p}$ holds for all $0\\leq a <p$"
   ]
  },
  {
   "cell_type": "code",
   "execution_count": 10,
   "id": "191a258e",
   "metadata": {},
   "outputs": [],
   "source": [
    "def is_false_prime(n):\n",
    "    if not is_prime(n) and is_prime_like(n): # We don't want the input 'n' is a prime, and at the same time, 'n' is prime-like. 'not' will only apply on the condition after it.\n",
    "        return True                          # If the input 'n' meets the above two conditions, return True.\n",
    "    else:                      \n",
    "        return False                         # If the input 'n' is prime, or it is not prime-like, return False."
   ]
  },
  {
   "cell_type": "markdown",
   "id": "ded4bc78",
   "metadata": {},
   "source": [
    "### Step 4-Collect the first 20 false prime\n",
    "\n",
    "Name an empty list `false_prime`. Since we don't know how mmany numbers we need to go through the loop to find the first 20 false primes, a `while` loop should be utilized here. Whenever we find a false prime, add it to the list of `false_prime`."
   ]
  },
  {
   "cell_type": "code",
   "execution_count": 11,
   "id": "e40e213d",
   "metadata": {},
   "outputs": [
    {
     "name": "stdout",
     "output_type": "stream",
     "text": [
      "[561, 1105, 1729, 2465, 2821, 6601, 8911, 10585, 15841, 29341, 41041, 46657, 52633, 62745, 63973, 75361, 101101, 115921, 126217, 162401]\n"
     ]
    }
   ],
   "source": [
    "false_primes = []              # Set up an empty list named 'false prime'.\n",
    "\n",
    "i = 2                          # Since false prime should be greater than '2', we start checking from '2'.\n",
    "\n",
    "while len(false_primes) < 20:  # Set up a while loop. End runing while the length of the list of false primes is 20.\n",
    "    if is_false_prime(i):      # Check if the input is false prime.\n",
    "        false_primes.append(i) # If yes, add it to the list of false prime. \n",
    "    i += 1                     # Plus '1' each time the input is checked so that the while loop can proceed.\n",
    "\n",
    "print(false_primes)            # Finish the collaection. Print out the list of false primes."
   ]
  },
  {
   "cell_type": "markdown",
   "id": "e1a84de4",
   "metadata": {},
   "source": [
    "## Part 2-Primary decomposition of false prime\n",
    "\n",
    "Exploring the properties of false primes is our goal of this project. In order to analyze them, we can decompose each false primes found above.\n",
    "\n",
    "Step:\n",
    "1. Write a Python function `my_primes` that returns the list of all primes smaller or equal to `n`.\n",
    "2. Write a Python function `primary` that for each integer `n` greater than 1 returns a list $$[p_1,p_2,...,p_m]$$ where $p_1,...,p_m$ are primes such that $p_1\\leq p_2\\leq ...\\leq p_m$ and $n=p_1\\cdot p_2\\cdot ...\\cdot p_m$.\n",
    "3. Show the primary decompositions of each false primes we found."
   ]
  },
  {
   "cell_type": "markdown",
   "id": "aadfbbb1",
   "metadata": {},
   "source": [
    "### Step 1-Create `my_primes` function\n",
    "\n",
    "The function `is_prime` that can decide if the input is prime has been created. Now we use `is_prime` to find prime numbers that smaller than or equal to the given number `n`. Add the found prime numbers to a list named `prime_list`. Return this list."
   ]
  },
  {
   "cell_type": "code",
   "execution_count": 12,
   "id": "37375037",
   "metadata": {},
   "outputs": [],
   "source": [
    "def my_primes(n):\n",
    "    prime_list = []              # Set up an empty list named 'prime_list'.\n",
    "    for i in range(2,n+1):       # Check every number from '2' to 'n', so the upper bound should be 'n+1'.\n",
    "        if is_prime(i):          # Apply the 'is_prime' function.\n",
    "            prime_list.append(i) # Add the prime found to the list.\n",
    "    return prime_list            # Return list after the loop ends."
   ]
  },
  {
   "cell_type": "markdown",
   "id": "5a39ce8c",
   "metadata": {},
   "source": [
    "To check if the `my_primes` function works for integer $11$."
   ]
  },
  {
   "cell_type": "code",
   "execution_count": 13,
   "id": "290bdd6b",
   "metadata": {},
   "outputs": [
    {
     "data": {
      "text/plain": [
       "[2, 3, 5, 7, 11]"
      ]
     },
     "execution_count": 13,
     "metadata": {},
     "output_type": "execute_result"
    }
   ],
   "source": [
    "my_primes(11)    # Apply the 'my_primes' function to integer '11'."
   ]
  },
  {
   "cell_type": "markdown",
   "id": "cdf241aa",
   "metadata": {},
   "source": [
    "### Step 2-Create `primary` function\n",
    "\n",
    "We still use the properties of prime numbers and congruences to create this function. Introduce the possible primes needed and let them be a range first. Next, set up a loop that check if every possible primes divide the input `n`. If yes, the primes will be a factor of `n`. Then add the prime factor to a list named `prime_decomposition`. Finally return the list."
   ]
  },
  {
   "cell_type": "code",
   "execution_count": 14,
   "id": "f5428519",
   "metadata": {},
   "outputs": [],
   "source": [
    "def primary(n):\n",
    "    primes = my_primes(n)                 # Introduce every primes smaller than or equal to 'n'.\n",
    "    \n",
    "    prime_decomposition = []              # Initialize an empty list.\n",
    "    \n",
    "    for d in primes:                      # Iterate numbers from 'primes'.\n",
    "        while n % d == 0:                 # Set up a while loop to check if 'd' divides 'n'.\n",
    "            prime_decomposition.append(d) # If yes, add 'd' to the list of 'prime_deconposition'.\n",
    "            n /= d                        # Factor out 'd' from 'n' and get the new 'n'.\n",
    "            \n",
    "    return prime_decomposition            # Return list after the loop ends."
   ]
  },
  {
   "cell_type": "markdown",
   "id": "5e0e8de4",
   "metadata": {},
   "source": [
    "To check the `primary` function if works for a prime $11$."
   ]
  },
  {
   "cell_type": "code",
   "execution_count": 15,
   "id": "abfc9e91",
   "metadata": {},
   "outputs": [
    {
     "data": {
      "text/plain": [
       "[11]"
      ]
     },
     "execution_count": 15,
     "metadata": {},
     "output_type": "execute_result"
    }
   ],
   "source": [
    "primary(11) # Apply the 'primary' function to prime '11'."
   ]
  },
  {
   "cell_type": "markdown",
   "id": "76639d1f",
   "metadata": {},
   "source": [
    "To check the `primary` function if works for a non-prime number $10$."
   ]
  },
  {
   "cell_type": "code",
   "execution_count": 16,
   "id": "510a3c32",
   "metadata": {},
   "outputs": [
    {
     "data": {
      "text/plain": [
       "[2, 5]"
      ]
     },
     "execution_count": 16,
     "metadata": {},
     "output_type": "execute_result"
    }
   ],
   "source": [
    "primary(10) # Apply the 'primary' function to integer '10'."
   ]
  },
  {
   "cell_type": "markdown",
   "id": "3ecd5a37",
   "metadata": {},
   "source": [
    "To test whether the `primary` function can decompose all prime factors without dropping any repeated."
   ]
  },
  {
   "cell_type": "code",
   "execution_count": 17,
   "id": "1e479ba9",
   "metadata": {},
   "outputs": [
    {
     "data": {
      "text/plain": [
       "[2, 3, 3, 5]"
      ]
     },
     "execution_count": 17,
     "metadata": {},
     "output_type": "execute_result"
    }
   ],
   "source": [
    "primary(90) # Apply the 'primary' function to integer '90'."
   ]
  },
  {
   "cell_type": "markdown",
   "id": "1d828fb6",
   "metadata": {},
   "source": [
    "### Step 3-Primary decomposition of the first 20 false primes\n",
    "\n",
    "Utilize a `for` loop and the `primary` function to print out the primary decomposition of the first 20 false primes we found above."
   ]
  },
  {
   "cell_type": "code",
   "execution_count": 18,
   "id": "db9b4c92",
   "metadata": {},
   "outputs": [
    {
     "name": "stdout",
     "output_type": "stream",
     "text": [
      "The primary decomposition of 561 is [3, 11, 17]\n",
      "The primary decomposition of 1105 is [5, 13, 17]\n",
      "The primary decomposition of 1729 is [7, 13, 19]\n",
      "The primary decomposition of 2465 is [5, 17, 29]\n",
      "The primary decomposition of 2821 is [7, 13, 31]\n",
      "The primary decomposition of 6601 is [7, 23, 41]\n",
      "The primary decomposition of 8911 is [7, 19, 67]\n",
      "The primary decomposition of 10585 is [5, 29, 73]\n",
      "The primary decomposition of 15841 is [7, 31, 73]\n",
      "The primary decomposition of 29341 is [13, 37, 61]\n",
      "The primary decomposition of 41041 is [7, 11, 13, 41]\n",
      "The primary decomposition of 46657 is [13, 37, 97]\n",
      "The primary decomposition of 52633 is [7, 73, 103]\n",
      "The primary decomposition of 62745 is [3, 5, 47, 89]\n",
      "The primary decomposition of 63973 is [7, 13, 19, 37]\n",
      "The primary decomposition of 75361 is [11, 13, 17, 31]\n",
      "The primary decomposition of 101101 is [7, 11, 13, 101]\n",
      "The primary decomposition of 115921 is [13, 37, 241]\n",
      "The primary decomposition of 126217 is [7, 13, 19, 73]\n",
      "The primary decomposition of 162401 is [17, 41, 233]\n"
     ]
    }
   ],
   "source": [
    "for x in false_primes:                                                     # Iterate each false prime from list of 'false_primes'\n",
    "    print('The primary decomposition of {0} is {1}'.format(x, primary(x))) # Print out the decomposition results."
   ]
  },
  {
   "cell_type": "markdown",
   "id": "ff196a29",
   "metadata": {},
   "source": [
    "## Part 3-Conjecture\n",
    "\n",
    "My conjecture about the properties of false primes:\n",
    "\n",
    "According to the above observation, we can obviously see that all of the false primes we found are odd and composite. Because all primes are odd except $2$ and the false primes are composited by primes but $2$, I will conjecture all of the false primes are odd.\n",
    "\n",
    "The difference between two adjacent false primes becomes larger as the false primes increasing. In addition, false primes are rare. It leads to some very huge numbers after the first 20 ones."
   ]
  },
  {
   "cell_type": "markdown",
   "id": "7bd53629",
   "metadata": {},
   "source": [
    "## Conclusion\n",
    "\n",
    "In this project, in order to research the properties of one kind of numbers that are unfamiliar to the general public, we deeply utilize the features of prime numbers and congruences to analyze them. However, find out a number which is not a prime but was hold for the Fermat's little theorem is not an easy thing. In virtue of the power of computer and Python, we can calculate and test based on our demand in a short period of time. \n",
    "\n",
    "Above all, we need to write out the following functions: 1) `is_prime` function, which determine whether the input is prime; 2) `is_prime_like` function, which decide whether the input can pass the Fermat's little theorem. Moreoevr, combine the two functions above to create a new function `is_false_prime` that can determine whether the input is false prime. \n",
    "\n",
    "Secondly, decompose the false primes we found by using the `my_primes` and `primary` functions.\n",
    "\n",
    "In the end, observe the results, and try to sperate them on each other, to see if we can come up with any patterns.\n",
    "\n",
    "Results:\n",
    "1. The first 20 false primes: \\[561, 1105, 1729, 2465, 2821, 6601, 8911, 10585, 15841, 29341, 41041, 46657, 52633, 62745, 63973, 75361, 101101, 115921, 126217, 162401\\]\n",
    "\n",
    "2. The primary decomposition of 561 is \\[3, 11, 17\\]\n",
    "\n",
    "   The primary decomposition of 1105 is \\[5, 13, 17\\]\n",
    "   \n",
    "   The primary decomposition of 1729 is \\[7, 13, 19\\]\n",
    "   \n",
    "   The primary decomposition of 2465 is \\[5, 17, 29\\]\n",
    "   \n",
    "   The primary decomposition of 2821 is \\[7, 13, 31\\]\n",
    "   \n",
    "   The primary decomposition of 6601 is \\[7, 23, 41\\]\n",
    "   \n",
    "   The primary decomposition of 8911 is \\[7, 19, 67\\]\n",
    "   \n",
    "   The primary decomposition of 10585 is \\[5, 29, 73\\]\n",
    "   \n",
    "   The primary decomposition of 15841 is \\[7, 31, 73\\]\n",
    "   \n",
    "   The primary decomposition of 29341 is \\[13, 37, 61\\]\n",
    "   \n",
    "   The primary decomposition of 41041 is \\[7, 11, 13, 41\\]\n",
    "   \n",
    "   The primary decomposition of 46657 is \\[13, 37, 97\\]\n",
    "   \n",
    "   The primary decomposition of 52633 is \\[7, 73, 103\\]\n",
    "   \n",
    "   The primary decomposition of 62745 is \\[3, 5, 47, 89\\]\n",
    "   \n",
    "   The primary decomposition of 63973 is \\[7, 13, 19, 37\\]\n",
    "   \n",
    "   The primary decomposition of 75361 is \\[11, 13, 17, 31\\]\n",
    "   \n",
    "   The primary decomposition of 101101 is \\[7, 11, 13, 101\\]\n",
    "   \n",
    "   The primary decomposition of 115921 is \\[13, 37, 241\\]\n",
    "   \n",
    "   The primary decomposition of 126217 is \\[7, 13, 19, 73\\]\n",
    "   \n",
    "   The primary decomposition of 162401 is \\[17, 41, 233\\]\n",
    "\n",
    "3. My conjecture about the properties of false primes: all of the false primes are odd and composite. And they are all huge number.\n"
   ]
  },
  {
   "cell_type": "markdown",
   "id": "ac847fc7",
   "metadata": {},
   "source": [
    "## References\n",
    "\n",
    "https://jllottes.github.io/Projects/prime_or_not/prime_or_not.html"
   ]
  }
 ],
 "metadata": {
  "kernelspec": {
   "display_name": "Python 3 (ipykernel)",
   "language": "python",
   "name": "python3"
  },
  "language_info": {
   "codemirror_mode": {
    "name": "ipython",
    "version": 3
   },
   "file_extension": ".py",
   "mimetype": "text/x-python",
   "name": "python",
   "nbconvert_exporter": "python",
   "pygments_lexer": "ipython3",
   "version": "3.9.13"
  }
 },
 "nbformat": 4,
 "nbformat_minor": 5
}
